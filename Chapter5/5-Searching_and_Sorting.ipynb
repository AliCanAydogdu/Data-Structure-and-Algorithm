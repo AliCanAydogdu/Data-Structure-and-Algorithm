{
 "cells": [
  {
   "cell_type": "markdown",
   "metadata": {},
   "source": [
    "# Searching and Sorting\n",
    "\n",
    "\n",
    "## Searching\n",
    "\n",
    "Process of selecting information from a collection based on specific criteria. \n",
    "\n",
    "### Linear Search\n",
    "\n",
    "Simplest approach to searching problem is sequential or linear search. It's basically starting from first element and goint one by one untill the item found. \n",
    "\n",
    "In Python, a specific item can be found with ```in``` operator"
   ]
  },
  {
   "cell_type": "code",
   "execution_count": 6,
   "metadata": {
    "collapsed": false
   },
   "outputs": [
    {
     "name": "stdout",
     "output_type": "stream",
     "text": [
      "The key is not in the array.\n"
     ]
    }
   ],
   "source": [
    "theArray = range(0,100)\n",
    "key = 101\n",
    "if key in theArray:\n",
    "    print(\"The key is in the array.\")\n",
    "else:\n",
    "    print(\"The key is not in the array.\")"
   ]
  },
  {
   "cell_type": "markdown",
   "metadata": {},
   "source": [
    "Okay, using ```in``` operator gives us a great deal of simplicity, but we should know the behind the scenes of ```in``` operator. "
   ]
  },
  {
   "cell_type": "code",
   "execution_count": 7,
   "metadata": {
    "collapsed": true
   },
   "outputs": [],
   "source": [
    "def linearSearch(theValues, target):\n",
    "    n = len(theValues)\n",
    "    for i in range(n):\n",
    "        # If the target is in the ith element, return True\n",
    "        if theValues[i] == target:\n",
    "            return True\n",
    "    # If not found, return False.\n",
    "    return False\n",
    "        "
   ]
  },
  {
   "cell_type": "markdown",
   "metadata": {},
   "source": [
    "Finding a specific item from unsorted list resulted worst case time of O(n), since it has to go all the way to the end n iteration.\n",
    "\n",
    "What about if we search through Sorted sequence? Since we know that the list is sorted we might avoid going through the end, we can terminate it if we came to bigger number than our target. This produces the somewhat better version than the unsorted linear search but complexity is still the same.\n"
   ]
  },
  {
   "cell_type": "code",
   "execution_count": 8,
   "metadata": {
    "collapsed": true
   },
   "outputs": [],
   "source": [
    "def sortedLinearSearch(theValues, item):\n",
    "    n = len(theValues)\n",
    "    for i in range(n):\n",
    "        # If the target is found in the ith element, return True\n",
    "        if theValues[i] == item:\n",
    "            return True\n",
    "        # If target is largers than the ith element, it's not in the sequence.\n",
    "        elif theValues[i] > item:\n",
    "            return False\n",
    "    \n",
    "    # The item is not in the sequence.\n",
    "    return False"
   ]
  },
  {
   "cell_type": "markdown",
   "metadata": {},
   "source": [
    "**Finding the Smallest Value**\n",
    "\n",
    "It is equivalen to ```min()``` function in Python. To be able to accomplish this we have to do linear search but this time we have to keep track of the smallest number. Complexity is O(n) again.\n"
   ]
  },
  {
   "cell_type": "code",
   "execution_count": 9,
   "metadata": {
    "collapsed": true
   },
   "outputs": [],
   "source": [
    "def findSmallest(theValues):\n",
    "    n = len(theValues)\n",
    "    # Assume the first item is the smallest value\n",
    "    smallest = theValues[0]\n",
    "    # Determine if any other item in the sequence is smaller.\n",
    "    for i in range(1,n):\n",
    "        if theValues[i] < smallest:\n",
    "            smallest = theValues[i]\n",
    "    # Return the smallest found.\n",
    "    return smallest"
   ]
  },
  {
   "cell_type": "markdown",
   "metadata": {},
   "source": [
    "We can do the same thing for finding the maximum number, Python's ```max()``` implementation"
   ]
  },
  {
   "cell_type": "code",
   "execution_count": 10,
   "metadata": {
    "collapsed": true
   },
   "outputs": [],
   "source": [
    "def findBiggest(theValues):\n",
    "    n = len(theValues)\n",
    "    # Assuming the first item is the biggest value\n",
    "    biggest = theValues[0]\n",
    "    # Determine if any other item in the sequence is bigger.\n",
    "    for i in range(1, n):\n",
    "        if theValues[i] > biggest:\n",
    "            biggest = theValues[i]\n",
    "    #Return the biggest found.\n",
    "    return biggest"
   ]
  },
  {
   "cell_type": "markdown",
   "metadata": {},
   "source": [
    "### The Binary Search\n",
    "\n",
    "![Binary Search](https://s3.amazonaws.com/learneroo-images/main/binarySearch.png)"
   ]
  },
  {
   "cell_type": "code",
   "execution_count": 12,
   "metadata": {
    "collapsed": true
   },
   "outputs": [],
   "source": [
    "def binarySearch(theValues, target):\n",
    "    # Start with the entire sequence of elements. 0:length\n",
    "    low = 0 \n",
    "    high = len(theValues - 1)\n",
    "    \n",
    "    # Repeatedly subdivide the sequence in half until the target is found.\n",
    "    while low <= high:\n",
    "        # Find the midpoint of the sequence.\n",
    "        mid = (high + low) // 2\n",
    "        # Does the midpoint contain the target?\n",
    "        if theValues[mid] == target:\n",
    "            return True\n",
    "        # Or does the target precede the midpoint?\n",
    "        elif target < theValues[mid]:\n",
    "            high = mid - 1 # Update the upper bound\n",
    "            \n",
    "        # Or does it follow the midpoint\n",
    "        else:\n",
    "            low = mid + 1 # Update the lower bound\n",
    "            \n",
    "    # If the sequence cannot be subdivided further, we're done.\n",
    "    return False"
   ]
  },
  {
   "cell_type": "markdown",
   "metadata": {},
   "source": [
    "## Sorting \n",
    "\n",
    "Sorting is the process of ordering or arranging a collection of items.\n",
    "\n",
    "### Bubble Sort\n",
    "\n",
    "![Bubble Sort](http://www.algolist.net/img/sorts/bubble-sort-3.png)\n"
   ]
  },
  {
   "cell_type": "code",
   "execution_count": 25,
   "metadata": {
    "collapsed": true
   },
   "outputs": [],
   "source": [
    "# Sorts a sequence in ascending order using the bubble sort algorith.\n",
    "def bubbleSort(seq):\n",
    "    not_sorted = True\n",
    "    n = len(seq)\n",
    "    print \"At the beginning: \"\n",
    "    print seq\n",
    "    while not_sorted:\n",
    "        # If following statements fail next statement will stop the loop\n",
    "        not_sorted = False\n",
    "        for i in range(n-1):\n",
    "            if seq[i] <= seq[i+1]:\n",
    "                continue;\n",
    "            else:\n",
    "                temp = seq[i]\n",
    "                seq[i] = seq[i+1]\n",
    "                seq[i+1] = temp\n",
    "\n",
    "            not_sorted = True\n",
    "            print seq\n",
    "    return seq\n"
   ]
  },
  {
   "cell_type": "code",
   "execution_count": 26,
   "metadata": {
    "collapsed": true
   },
   "outputs": [],
   "source": [
    "import random\n",
    "_list = random.sample(xrange(1, 101), 10)"
   ]
  },
  {
   "cell_type": "code",
   "execution_count": 27,
   "metadata": {
    "collapsed": false
   },
   "outputs": [
    {
     "data": {
      "text/plain": [
       "[38, 75, 7, 48, 34, 69, 32, 61, 71, 80]"
      ]
     },
     "execution_count": 27,
     "metadata": {},
     "output_type": "execute_result"
    }
   ],
   "source": [
    "_list"
   ]
  },
  {
   "cell_type": "code",
   "execution_count": 28,
   "metadata": {
    "collapsed": false
   },
   "outputs": [
    {
     "name": "stdout",
     "output_type": "stream",
     "text": [
      "At the beginning: \n",
      "[38, 75, 7, 48, 34, 69, 32, 61, 71, 80]\n",
      "[38, 7, 75, 48, 34, 69, 32, 61, 71, 80]\n",
      "[38, 7, 48, 75, 34, 69, 32, 61, 71, 80]\n",
      "[38, 7, 48, 34, 75, 69, 32, 61, 71, 80]\n",
      "[38, 7, 48, 34, 69, 75, 32, 61, 71, 80]\n",
      "[38, 7, 48, 34, 69, 32, 75, 61, 71, 80]\n",
      "[38, 7, 48, 34, 69, 32, 61, 75, 71, 80]\n",
      "[38, 7, 48, 34, 69, 32, 61, 71, 75, 80]\n",
      "[7, 38, 48, 34, 69, 32, 61, 71, 75, 80]\n",
      "[7, 38, 34, 48, 69, 32, 61, 71, 75, 80]\n",
      "[7, 38, 34, 48, 32, 69, 61, 71, 75, 80]\n",
      "[7, 38, 34, 48, 32, 61, 69, 71, 75, 80]\n",
      "[7, 34, 38, 48, 32, 61, 69, 71, 75, 80]\n",
      "[7, 34, 38, 32, 48, 61, 69, 71, 75, 80]\n",
      "[7, 34, 32, 38, 48, 61, 69, 71, 75, 80]\n",
      "[7, 32, 34, 38, 48, 61, 69, 71, 75, 80]\n"
     ]
    },
    {
     "data": {
      "text/plain": [
       "[7, 32, 34, 38, 48, 61, 69, 71, 75, 80]"
      ]
     },
     "execution_count": 28,
     "metadata": {},
     "output_type": "execute_result"
    }
   ],
   "source": [
    "bubbleSort(_list)"
   ]
  },
  {
   "cell_type": "markdown",
   "metadata": {},
   "source": [
    "### Selection Sort\n",
    "\n",
    "![Selection Sort](http://i.stack.imgur.com/1SKb2.jpg)"
   ]
  },
  {
   "cell_type": "code",
   "execution_count": 31,
   "metadata": {
    "collapsed": true
   },
   "outputs": [],
   "source": [
    "# Sorts a sequence in ascending order using the selection sort algorithm\n",
    "def selectionSort(theSeq):\n",
    "    n = len(theSeq)\n",
    "    for i in range(n-1):\n",
    "        # Assume the ith element is the smallest.\n",
    "        smallNdx = i\n",
    "        for j in range(i+1, n):\n",
    "            if theSeq[j] < theSeq[smallNdx]:\n",
    "                smallNdx = j\n",
    "        \n",
    "        # Swap the ith value and smallNdx value only if the smallest value is \n",
    "        # not really in its proper position. Some implementations omit testing \n",
    "        # the condition and always swap the two values.\n",
    "        if smallNdx != i:\n",
    "            tmp = theSeq[i]\n",
    "            theSeq[i] = theSeq[smallNdx]\n",
    "            theSeq[smallNdx] = tmp\n",
    "\n",
    "    return theSeq"
   ]
  },
  {
   "cell_type": "code",
   "execution_count": 34,
   "metadata": {
    "collapsed": true
   },
   "outputs": [],
   "source": [
    "import random\n",
    "_list = random.sample(xrange(1, 101), 10)"
   ]
  },
  {
   "cell_type": "code",
   "execution_count": 35,
   "metadata": {
    "collapsed": false
   },
   "outputs": [
    {
     "name": "stdout",
     "output_type": "stream",
     "text": [
      "[41, 17, 12, 61, 56, 28, 38, 51, 19, 82]\n"
     ]
    }
   ],
   "source": [
    "print _list"
   ]
  },
  {
   "cell_type": "code",
   "execution_count": 36,
   "metadata": {
    "collapsed": false
   },
   "outputs": [
    {
     "data": {
      "text/plain": [
       "[12, 17, 19, 28, 38, 41, 51, 56, 61, 82]"
      ]
     },
     "execution_count": 36,
     "metadata": {},
     "output_type": "execute_result"
    }
   ],
   "source": [
    "selectionSort(_list)"
   ]
  },
  {
   "cell_type": "markdown",
   "metadata": {},
   "source": [
    "### Insertion Sort\n",
    "\n",
    "![Insertion Sort](http://freefeast.info/wp-content/uploads//2013/01/Insertion-Sort-Model11.jpg)"
   ]
  },
  {
   "cell_type": "code",
   "execution_count": 37,
   "metadata": {
    "collapsed": true
   },
   "outputs": [],
   "source": [
    "# Sorts a sequence in ascending order using the insertion sort algorithm.\n",
    "def insertionSort(theSeq):\n",
    "    n = len(theSeq)\n",
    "    # Starts with the first item as the only sorted entry.\n",
    "    for i in range(1, n):\n",
    "        # Save the value to be positioned.\n",
    "        value = theSeq[i]\n",
    "        # Find the position where value fits in the ordered part of the list.\n",
    "        pos = i\n",
    "        while pos > 0 and value < theSeq[pos - 1]:\n",
    "            # Shift the items to the rigth during search\n",
    "            theSeq[pos] = theSeq[pos - 1]\n",
    "            pos -= 1\n",
    "            \n",
    "        theSeq[pos] = value\n",
    "    return theSeq"
   ]
  },
  {
   "cell_type": "code",
   "execution_count": 38,
   "metadata": {
    "collapsed": true
   },
   "outputs": [],
   "source": [
    "import random\n",
    "_list = random.sample(xrange(1, 101), 10)"
   ]
  },
  {
   "cell_type": "code",
   "execution_count": 39,
   "metadata": {
    "collapsed": false
   },
   "outputs": [
    {
     "data": {
      "text/plain": [
       "[58, 38, 5, 82, 87, 86, 3, 6, 25, 2]"
      ]
     },
     "execution_count": 39,
     "metadata": {},
     "output_type": "execute_result"
    }
   ],
   "source": [
    "_list"
   ]
  },
  {
   "cell_type": "code",
   "execution_count": 40,
   "metadata": {
    "collapsed": false
   },
   "outputs": [
    {
     "data": {
      "text/plain": [
       "[2, 3, 5, 6, 25, 38, 58, 82, 86, 87]"
      ]
     },
     "execution_count": 40,
     "metadata": {},
     "output_type": "execute_result"
    }
   ],
   "source": [
    "insertionSort(_list)"
   ]
  },
  {
   "cell_type": "markdown",
   "metadata": {},
   "source": [
    "## Working ith Sorted Lists\n",
    "\n",
    "We can increase the efficiency of some algorithms by making input list a sorted list. \n",
    "\n",
    "### Maintaining a Sorted List\n",
    "\n",
    "To maintain a sorted list new items must be inserted into their proper position. Instead of using ```append()``` method we have to locate proper position and use ```insert()``` method. \n"
   ]
  },
  {
   "cell_type": "code",
   "execution_count": 42,
   "metadata": {
    "collapsed": true
   },
   "outputs": [],
   "source": [
    "# Modified version of the binary search that returns the index within \n",
    "# a sorted sequence indicating where the target should be located.\n",
    "def findSortedPosition(theList, target):\n",
    "    low = 0 \n",
    "    high = len(theList) - 1\n",
    "    while low <= high:\n",
    "        mid = (high + low) // 2\n",
    "        if theList[mid] == target:\n",
    "            # Index of the target\n",
    "            return mid\n",
    "        elif target < theList[mid]:\n",
    "            high = mid - 1\n",
    "        else:\n",
    "            low = mid + 1\n",
    "            \n",
    "    # Index where the target value should be.\n",
    "    return low"
   ]
  },
  {
   "cell_type": "code",
   "execution_count": 47,
   "metadata": {
    "collapsed": true
   },
   "outputs": [],
   "source": [
    "_list = range(1,24,2)"
   ]
  },
  {
   "cell_type": "code",
   "execution_count": 48,
   "metadata": {
    "collapsed": false
   },
   "outputs": [
    {
     "name": "stdout",
     "output_type": "stream",
     "text": [
      "[1, 3, 5, 7, 9, 11, 13, 15, 17, 19, 21, 23]\n"
     ]
    }
   ],
   "source": [
    "print(_list)"
   ]
  },
  {
   "cell_type": "code",
   "execution_count": 50,
   "metadata": {
    "collapsed": false
   },
   "outputs": [
    {
     "name": "stdout",
     "output_type": "stream",
     "text": [
      "('Index is ', 6)\n"
     ]
    }
   ],
   "source": [
    "print(\"Index is \", findSortedPosition(_list, 12))"
   ]
  }
 ],
 "metadata": {
  "anaconda-cloud": {},
  "kernelspec": {
   "display_name": "Python [default]",
   "language": "python",
   "name": "python2"
  },
  "language_info": {
   "codemirror_mode": {
    "name": "ipython",
    "version": 2
   },
   "file_extension": ".py",
   "mimetype": "text/x-python",
   "name": "python",
   "nbconvert_exporter": "python",
   "pygments_lexer": "ipython2",
   "version": "2.7.12"
  }
 },
 "nbformat": 4,
 "nbformat_minor": 1
}
