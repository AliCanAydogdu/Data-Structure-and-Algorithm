{
 "cells": [
  {
   "cell_type": "markdown",
   "metadata": {},
   "source": [
    "# Arrays\n",
    "\n",
    "\n",
    "Array structure is the most basic structure to store data. In this section we will learn the basics of Arrays and implement an array structure for a one-dimensional array. Then we will create two dimensional array.\n",
    "\n",
    "## The Array Structure\n",
    "\n",
    "- A __one-dimensional array__ composed of multiple sequential elements stored in contiguous bytes of memory and allows for random access to the individual elements. \n",
    "- Elements in the array can be accessed directly by the index number we assign while we create the array.\n",
    "\n",
    "Array structure is very similar to Python's list structure, however there are two major differences between the array and the list. \n",
    "\n",
    "- First, Array has limited number of operations, and list has large collection of operations.\n",
    "- Second, Array size cannot be changed after it's created, but list is flexible.\n",
    "\n",
    "Array is best usable when the number of elements are known up front. \n",
    "\n",
    "\n",
    "### The Array Abstract Data Type\n",
    "\n",
    "Array structure found in most programming languages as primitive type. Now we will define Array ADT to represent a one-dimensional array for use in Python that works similarly to arrays found in other languages. \n",
    "\n",
    "__Array ADT Definition__:\n",
    "\n",
    "- ```Array(size)``` : Create one-dimensional array consisting of ```size``` elements with each element initially set to None. ```size``` must be greater than zero. \n",
    "- ```length()``` : Returns the length or number of elements in the array\n",
    "- ```getitem(index)``` : Returns the value stored in the array at element position ```index```.(Must be in valid range.)\n",
    "- ```setitem(index, value)``` : Modifies the contents of the array element at position ```index``` to contain ```value```. \n",
    "- ```clearing(value)``` : Clears the array by setting every element to ```value```\n",
    "- ```iterator()``` : Creates and returns an iterator that can be used to traverse the elements of the array.\n",
    "\n",
    "In our ADT definition we used basic hardware level implementation and made it more abstract by adding iterator and \n",
    "optain size, set value, etc.\n",
    "\n",
    "Now we created our ADT in file called ```array.py```, let's use it to fill our array with random values and print them one per line. "
   ]
  },
  {
   "cell_type": "code",
   "execution_count": null,
   "metadata": {
    "collapsed": false
   },
   "outputs": [],
   "source": [
    "from array_class import Array1D\n",
    "import random\n",
    "\n",
    "# Array valueList created with size of 100\n",
    "valueList = Array1D(100)\n",
    "\n",
    "# Filling the array with random floating-point values\n",
    "for i in range(len(valueList)):\n",
    "    valueList[i] = random.random()\n",
    "    \n",
    "# Print the values, one per line\n",
    "for value in valueList:\n",
    "    print(value)"
   ]
  },
  {
   "cell_type": "markdown",
   "metadata": {},
   "source": [
    "Now our Array ADT is working like charm let's use it with somewhat better implementation. Let's count the number of occurrences of each letter in a text file using Array ADT:"
   ]
  },
  {
   "cell_type": "code",
   "execution_count": 3,
   "metadata": {
    "collapsed": false
   },
   "outputs": [
    {
     "name": "stdout",
     "output_type": "stream",
     "text": [
      "A -  168         a - 3860\n",
      "B -  126         b -  609\n",
      "C -   70         c -  898\n",
      "D -   42         d - 2330\n",
      "E -   22         e - 5969\n",
      "F -  128         f -  890\n",
      "G -   34         g - 1012\n",
      "H -  103         h - 3492\n",
      "I -  156         i - 2748\n",
      "J -   27         j -   56\n",
      "K -   17         k -  390\n",
      "L -  105         l - 1693\n",
      "M -  116         m - 1000\n",
      "N -   43         n - 3219\n",
      "O -   52         o - 3909\n",
      "P -   44         p -  801\n",
      "Q -    2         q -   35\n",
      "R -   17         r - 2350\n",
      "S -  135         s - 2692\n",
      "T -  348         t - 4435\n",
      "U -    3         u - 1448\n",
      "V -    6         v -  323\n",
      "W -  150         w - 1110\n",
      "X -    0         x -  108\n",
      "Y -   22         y -  891\n",
      "Z -    0         z -   14\n"
     ]
    }
   ],
   "source": [
    "from array_class import Array1D\n",
    "\n",
    "# Array theCounters created with size of 127 (ASCII characters)\n",
    "theCounters = Array1D(127)\n",
    "# theCounters elements initialized to 0 \n",
    "theCounters.clear(0)\n",
    "\n",
    "# Open the text file for reading and extract each line from the file\n",
    "# and iterate over each character in the line.\n",
    "theFile = open('textfile.txt', 'r')\n",
    "for line in theFile:\n",
    "    for letter in line:\n",
    "        code = ord(letter)\n",
    "        theCounters[code] += 1\n",
    "# Close the file\n",
    "theFile.close()\n",
    "\n",
    "# Print the results. The uppercase letters have ASCII values in the range 65..90\n",
    "# the lowercase letters are in the range 97..122.\n",
    "for i in range(26):\n",
    "    print(\"%c - %4d         %c - %4d\" % (chr(65+i), theCounters[65+i], chr(97+i), theCounters[97+i]))"
   ]
  },
  {
   "cell_type": "markdown",
   "metadata": {
    "collapsed": true
   },
   "source": [
    "To implement our array ADT we will use built-in module called ```ctypes``` which will give us an opportunity to implement hardware-supported array structure. \n",
    "\n",
    "The ```ctypes``` module provides a tecnique for creating arrays that can store **References** to Python objects. "
   ]
  },
  {
   "cell_type": "code",
   "execution_count": 7,
   "metadata": {
    "collapsed": false
   },
   "outputs": [
    {
     "ename": "ValueError",
     "evalue": "PyObject is NULL",
     "output_type": "error",
     "traceback": [
      "\u001b[0;31m---------------------------------------------------------------------------\u001b[0m",
      "\u001b[0;31mValueError\u001b[0m                                Traceback (most recent call last)",
      "\u001b[0;32m<ipython-input-7-359455b02d84>\u001b[0m in \u001b[0;36m<module>\u001b[0;34m()\u001b[0m\n\u001b[1;32m      2\u001b[0m \u001b[0mArrayType\u001b[0m \u001b[0;34m=\u001b[0m \u001b[0mctypes\u001b[0m\u001b[0;34m.\u001b[0m\u001b[0mpy_object\u001b[0m \u001b[0;34m*\u001b[0m \u001b[0;36m5\u001b[0m\u001b[0;34m\u001b[0m\u001b[0m\n\u001b[1;32m      3\u001b[0m \u001b[0mslots\u001b[0m \u001b[0;34m=\u001b[0m \u001b[0mArrayType\u001b[0m\u001b[0;34m(\u001b[0m\u001b[0;34m)\u001b[0m\u001b[0;34m\u001b[0m\u001b[0m\n\u001b[0;32m----> 4\u001b[0;31m \u001b[0mslots\u001b[0m\u001b[0;34m[\u001b[0m\u001b[0;36m0\u001b[0m\u001b[0;34m]\u001b[0m\u001b[0;34m\u001b[0m\u001b[0m\n\u001b[0m",
      "\u001b[0;31mValueError\u001b[0m: PyObject is NULL"
     ]
    }
   ],
   "source": [
    "import ctypes\n",
    "ArrayType = ctypes.py_object * 5\n",
    "slots = ArrayType()\n",
    "slots[0]"
   ]
  },
  {
   "cell_type": "markdown",
   "metadata": {},
   "source": [
    "Now if we want to print the value of the first item in the recently created array slots, we get ValueError, which says we don't have value for referenced position. But if we assign values..."
   ]
  },
  {
   "cell_type": "code",
   "execution_count": 8,
   "metadata": {
    "collapsed": true
   },
   "outputs": [],
   "source": [
    "slots[1] = 12\n",
    "slots[3] = 44\n",
    "slots[4] = 59\n",
    "slots[3] = None"
   ]
  },
  {
   "cell_type": "code",
   "execution_count": 12,
   "metadata": {
    "collapsed": false
   },
   "outputs": [
    {
     "name": "stdout",
     "output_type": "stream",
     "text": [
      "12\n"
     ]
    }
   ],
   "source": [
    "print slots[1]"
   ]
  },
  {
   "cell_type": "code",
   "execution_count": 11,
   "metadata": {
    "collapsed": false
   },
   "outputs": [
    {
     "name": "stdout",
     "output_type": "stream",
     "text": [
      "None\n"
     ]
    }
   ],
   "source": [
    "print slots[3]"
   ]
  },
  {
   "cell_type": "code",
   "execution_count": 13,
   "metadata": {
    "collapsed": false
   },
   "outputs": [
    {
     "ename": "ValueError",
     "evalue": "PyObject is NULL",
     "output_type": "error",
     "traceback": [
      "\u001b[0;31m---------------------------------------------------------------------------\u001b[0m",
      "\u001b[0;31mValueError\u001b[0m                                Traceback (most recent call last)",
      "\u001b[0;32m<ipython-input-13-a8d773535443>\u001b[0m in \u001b[0;36m<module>\u001b[0;34m()\u001b[0m\n\u001b[0;32m----> 1\u001b[0;31m \u001b[0;32mprint\u001b[0m \u001b[0mslots\u001b[0m\u001b[0;34m[\u001b[0m\u001b[0;36m2\u001b[0m\u001b[0;34m]\u001b[0m\u001b[0;34m\u001b[0m\u001b[0m\n\u001b[0m",
      "\u001b[0;31mValueError\u001b[0m: PyObject is NULL"
     ]
    }
   ],
   "source": [
    "print slots[2]"
   ]
  },
  {
   "cell_type": "markdown",
   "metadata": {},
   "source": [
    "The size of the array never change which is really useful when you know the size of the array you will need. For class definition of array ADT check: ```array_class.py```"
   ]
  },
  {
   "cell_type": "markdown",
   "metadata": {},
   "source": [
    "## Two-Dimensional Arrays\n",
    "\n",
    "Some problems require us to make more then 1 dimensions, in this case two-dimensional arrays are handy.\n",
    "\n",
    "We will define Array2D ADT for creating 2-D arrays, we will use some of the features directly from Array1D ADT. \n",
    "\n",
    "You can find the implementation in ```array_class.py``` file.\n",
    "\n",
    "Now let's talk about the usage of 2D arrays. Following snippets shows how to read text file and store the grades of students in the 2-D array.\n"
   ]
  },
  {
   "cell_type": "code",
   "execution_count": 5,
   "metadata": {
    "collapsed": false
   },
   "outputs": [
    {
     "name": "stdout",
     "output_type": "stream",
     "text": [
      "['90', '96', '92']\n",
      "['85', '91', '89']\n",
      "['82', '73', '84']\n",
      "['69', '82', '86']\n",
      "['95', '88', '91']\n",
      "['78', '64', '84']\n",
      "['92', '85', '89']\n",
      " 1:    92.00\n",
      " 2:    88.00\n",
      " 3:    79.00\n",
      " 4:    79.00\n",
      " 5:    91.00\n",
      " 6:    75.00\n",
      " 7:    88.00\n"
     ]
    }
   ],
   "source": [
    "from array_class import Array2D\n",
    "\n",
    "filename = \"StudentGrades.txt\"\n",
    "\n",
    "# Open the text file for reading.\n",
    "gradeFile = open(filename, \"r\")\n",
    "\n",
    "# Extract the first two values which indicate the size of the array.\n",
    "numStudents = int(gradeFile.readline())\n",
    "numExams = int(gradeFile.readline())\n",
    "\n",
    "\n",
    "# Create the 2-D array to store the grades.\n",
    "examGrades = Array2D(numStudents, numExams)\n",
    "\n",
    "# Extract the grades from the remaining lines.\n",
    "i = 0\n",
    "for student in gradeFile:\n",
    "    grades = student.split()\n",
    "    # print grades\n",
    "    for j in range(numExams):\n",
    "        examGrades[i,j] = int(grades[j])\n",
    "    i += 1\n",
    "\n",
    "# Close the text file.\n",
    "gradeFile.close()\n",
    "\n",
    "# Compute each student's average exam grade.\n",
    "for i in range(numStudents):\n",
    "    # Tally the exam grades for the ith student.\n",
    "    total = 0\n",
    "    for j in range(numExams):\n",
    "        total += examGrades[i,j]\n",
    "\n",
    "    # Computer average for the ith student.\n",
    "    examAvg = total / numExams\n",
    "    print(\"%2d:   %6.2f\" % (i+1, examAvg))"
   ]
  },
  {
   "cell_type": "markdown",
   "metadata": {},
   "source": [
    "## The Matrix Abstract Data Type\n",
    "\n",
    "**Matrix is an *m x n* rectangular grid or table of numerical values divided into m rows and n columns.**\n",
    "Matrices are important tool in arease such as linear algebra and computer graphics, are used in a number of applications, including representing and solving systems of linear equations. \n",
    "\n",
    "### Matrix Operations\n",
    "\n",
    "A number of operations can be performed on matrices. \n",
    "\n",
    "**Matrix Addition**\n",
    "\n",
    "![Matrix Addition](http://3.bp.blogspot.com/-B4hSv-0sMCQ/TiMZZ2AeN5I/AAAAAAAABXg/oAZUcr-At_M/s1600/add.png)\n",
    "\n",
    "**Matrix Substraction**\n",
    "\n",
    "![Matrix Substraction](http://1.bp.blogspot.com/-iL0waODyMUU/TiMc9BxsSbI/AAAAAAAABXs/jLM3Ge7LlTk/s1600/diff.png)\n",
    "\n",
    "**Matrix Scaling**\n",
    "\n",
    "![Matrix Scaling](https://bakhmalamath9.files.wordpress.com/2014/05/matrices-multiplication.png)\n",
    "\n",
    "**Matrix Multiplication**\n",
    "\n",
    "![Matrix Multiplication](http://s3-ap-southeast-1.amazonaws.com/subscriber.images/maths/2016/10/01081108/matrix-.png)\n",
    "\n",
    "**Transpose of Matrix**\n",
    "\n",
    "![Transpose of Matrix](http://www.vuse.vanderbilt.edu/es140/images_mat/mlmatrix15.gif)\n",
    "\n",
    "\n",
    "You can see the Matrix ADT implementation in ```matrix_class.py``` script."
   ]
  },
  {
   "cell_type": "code",
   "execution_count": null,
   "metadata": {
    "collapsed": true
   },
   "outputs": [],
   "source": []
  }
 ],
 "metadata": {
  "anaconda-cloud": {},
  "kernelspec": {
   "display_name": "Python [default]",
   "language": "python",
   "name": "python2"
  },
  "language_info": {
   "codemirror_mode": {
    "name": "ipython",
    "version": 2
   },
   "file_extension": ".py",
   "mimetype": "text/x-python",
   "name": "python",
   "nbconvert_exporter": "python",
   "pygments_lexer": "ipython2",
   "version": "2.7.12"
  }
 },
 "nbformat": 4,
 "nbformat_minor": 0
}
