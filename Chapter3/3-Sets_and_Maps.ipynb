{
 "cells": [
  {
   "cell_type": "markdown",
   "metadata": {},
   "source": [
    "# Sets and Maps\n",
    "\n",
    "In this chapter we will look at the implementations of some of the Python's built-in abstract data types, sets and dictionaries, like we did in previous chapters. \n",
    "\n",
    "## Sets\n",
    "\n",
    "Unlike Bag ADT we defined in chapter 1, Set ADT -container- stores unique values and represents the same structure found in mathematics. \n",
    "\n",
    "### The Set Abstract Data Type\n",
    "\n",
    "We will implement the Set abstract data type using list for this chapter, later chapters will provide more implementations and we will evaluate them. \n",
    "\n",
    "You can see the implemented Set ADT in ```linearset.py```\n",
    "\n",
    "Now let's try our implementation, if it's working or not."
   ]
  },
  {
   "cell_type": "code",
   "execution_count": 11,
   "metadata": {
    "collapsed": false
   },
   "outputs": [],
   "source": [
    "from linearset import Set\n",
    "\n",
    "smith = Set()\n",
    "smith.add(\"CSCI-112\")\n",
    "smith.add(\"MATH-121\")\n",
    "smith.add(\"HIST-340\")\n",
    "smith.add(\"ECON-101\")\n",
    "\n",
    "robert = Set()\n",
    "robert.add('POL-101')\n",
    "robert.add('ANTH-230')\n",
    "robert.add('CSCI-112')\n",
    "robert.add('ECON-101')"
   ]
  },
  {
   "cell_type": "code",
   "execution_count": 12,
   "metadata": {
    "collapsed": false
   },
   "outputs": [
    {
     "ename": "NameError",
     "evalue": "global name 'element' is not defined",
     "output_type": "error",
     "traceback": [
      "\u001b[0;31m---------------------------------------------------------------------------\u001b[0m",
      "\u001b[0;31mNameError\u001b[0m                                 Traceback (most recent call last)",
      "\u001b[0;32m<ipython-input-12-800f7cd34bee>\u001b[0m in \u001b[0;36m<module>\u001b[0;34m()\u001b[0m\n\u001b[1;32m      2\u001b[0m     \u001b[0;32mprint\u001b[0m\u001b[0;34m(\u001b[0m\u001b[0;34m\"Smith and Robert are taking the same courses.\"\u001b[0m\u001b[0;34m)\u001b[0m\u001b[0;34m\u001b[0m\u001b[0m\n\u001b[1;32m      3\u001b[0m \u001b[0;32melse\u001b[0m\u001b[0;34m:\u001b[0m\u001b[0;34m\u001b[0m\u001b[0m\n\u001b[0;32m----> 4\u001b[0;31m     \u001b[0msameCourses\u001b[0m \u001b[0;34m=\u001b[0m \u001b[0msmith\u001b[0m\u001b[0;34m.\u001b[0m\u001b[0mintersect\u001b[0m\u001b[0;34m(\u001b[0m\u001b[0mrobert\u001b[0m\u001b[0;34m)\u001b[0m\u001b[0;34m\u001b[0m\u001b[0m\n\u001b[0m\u001b[1;32m      5\u001b[0m     \u001b[0;32mif\u001b[0m \u001b[0msameCourses\u001b[0m\u001b[0;34m.\u001b[0m\u001b[0misEmpty\u001b[0m\u001b[0;34m(\u001b[0m\u001b[0;34m)\u001b[0m\u001b[0;34m:\u001b[0m\u001b[0;34m\u001b[0m\u001b[0m\n\u001b[1;32m      6\u001b[0m         \u001b[0;32mprint\u001b[0m\u001b[0;34m(\u001b[0m\u001b[0;34m\"Smith and Robert are not taking any of classes together.\"\u001b[0m\u001b[0;34m)\u001b[0m\u001b[0;34m\u001b[0m\u001b[0m\n",
      "\u001b[0;32m/Users/eneskemalergin/Desktop/github/Data_Structures_and_Algorithms/Chapter3/linearset.py\u001b[0m in \u001b[0;36mintersect\u001b[0;34m(self, setB)\u001b[0m\n\u001b[1;32m     54\u001b[0m         \u001b[0mnewSet\u001b[0m \u001b[0;34m=\u001b[0m \u001b[0mSet\u001b[0m\u001b[0;34m(\u001b[0m\u001b[0;34m)\u001b[0m\u001b[0;34m\u001b[0m\u001b[0m\n\u001b[1;32m     55\u001b[0m         \u001b[0;32mfor\u001b[0m \u001b[0melement\u001b[0m \u001b[0;32min\u001b[0m \u001b[0msetB\u001b[0m\u001b[0;34m:\u001b[0m\u001b[0;34m\u001b[0m\u001b[0m\n\u001b[0;32m---> 56\u001b[0;31m             \u001b[0;32mif\u001b[0m \u001b[0melement\u001b[0m \u001b[0;32min\u001b[0m \u001b[0mself\u001b[0m\u001b[0;34m:\u001b[0m\u001b[0;34m\u001b[0m\u001b[0m\n\u001b[0m\u001b[1;32m     57\u001b[0m                 \u001b[0mnewSet\u001b[0m\u001b[0;34m.\u001b[0m\u001b[0madd\u001b[0m\u001b[0;34m(\u001b[0m\u001b[0melement\u001b[0m\u001b[0;34m)\u001b[0m\u001b[0;34m\u001b[0m\u001b[0m\n\u001b[1;32m     58\u001b[0m         \u001b[0;32mreturn\u001b[0m \u001b[0mnewSet\u001b[0m\u001b[0;34m\u001b[0m\u001b[0m\n",
      "\u001b[0;31mNameError\u001b[0m: global name 'element' is not defined"
     ]
    }
   ],
   "source": [
    "if smith == robert:\n",
    "    print(\"Smith and Robert are taking the same courses.\")\n",
    "else:\n",
    "    sameCourses = smith.intersect(robert)\n",
    "    if sameCourses.isEmpty():\n",
    "        print(\"Smith and Robert are not taking any of classes together.\")\n",
    "    else:\n",
    "        print(\"Smith and Robert are taking some of the same courses\")\n",
    "        for course in sameCourses:\n",
    "            print(course)"
   ]
  },
  {
   "cell_type": "markdown",
   "metadata": {},
   "source": [
    "## Maps\n",
    "\n",
    "Searching for data items based on unique key values is a very common application in computer science. ADT for this is often called **Map** or **Dictionaries**. It's is like database entities we store id/key for every value.\n",
    "\n",
    "In this section we define our own Map ADT and then provide an implementation using a list, later we will implement and evaluate the map using a variety of data structures. \n",
    "\n",
    "Map ADT implementation can be found ```linearmap.py```."
   ]
  },
  {
   "cell_type": "markdown",
   "metadata": {},
   "source": [
    "## Multi-Dimensional Arrays\n",
    "\n",
    "Multi-dimensional arrays are with more than 2 dimensional arrays. In fact we can build as many dimensionsion as we want. \n",
    "\n",
    "### Data Organization\n",
    "\n",
    "**Array Storage:**\n",
    "\n",
    "A one-dimensional array is commonly used  to physically store arrays of higher dimensions. How can the individual elements of the 2D table be stored in the one-dimensional structure while maintaining direct access to the individual table elements?\n",
    "\n",
    "- row-major order\n",
    "- column-major order\n",
    "\n",
    "In row-major order, the individual rows are stored sequentially, on at a time. \n",
    "\n",
    "![row-major order storage](http://eli.thegreenplace.net/images/2015/column-major-2D.png)"
   ]
  },
  {
   "cell_type": "markdown",
   "metadata": {},
   "source": [
    "**Index Computation:**\n",
    "\n",
    "Since multi-dimensional arrays are created and managed by instrictions in the programming language, accessing an individual element must also be handled by the language. Given a 2D array of size mxn and using row-major ordering, an equation can be derived to computer this offset.\n",
    "\n",
    "    index(i1, i2, .... , in) = i1 * f1 + i2 * f2 + ... + i(n-1) * f(n-1) + in * fn\\\n",
    "    "
   ]
  },
  {
   "cell_type": "code",
   "execution_count": 1,
   "metadata": {
    "collapsed": true
   },
   "outputs": [],
   "source": [
    "def func( *args):\n",
    "    print(\"number of arguments: \", len(args))\n",
    "    _sum = 0\n",
    "    for value in args:\n",
    "        _sum += value\n",
    "        \n",
    "    print (\"Sum of the arguments: \", _sum)"
   ]
  },
  {
   "cell_type": "code",
   "execution_count": 2,
   "metadata": {
    "collapsed": false
   },
   "outputs": [
    {
     "name": "stdout",
     "output_type": "stream",
     "text": [
      "('number of arguments: ', 1)\n",
      "('Sum of the arguments: ', 12)\n"
     ]
    }
   ],
   "source": [
    "func(12)"
   ]
  },
  {
   "cell_type": "code",
   "execution_count": 3,
   "metadata": {
    "collapsed": false
   },
   "outputs": [
    {
     "name": "stdout",
     "output_type": "stream",
     "text": [
      "('number of arguments: ', 3)\n",
      "('Sum of the arguments: ', 15)\n"
     ]
    }
   ],
   "source": [
    "func(5,8,2)"
   ]
  },
  {
   "cell_type": "markdown",
   "metadata": {},
   "source": [
    "In the function above we used ```*args``` the asterisk next to argument name telss Python to accept any number of arguments and to combine them into a tuple."
   ]
  }
 ],
 "metadata": {
  "anaconda-cloud": {},
  "kernelspec": {
   "display_name": "Python [default]",
   "language": "python",
   "name": "python2"
  },
  "language_info": {
   "codemirror_mode": {
    "name": "ipython",
    "version": 2
   },
   "file_extension": ".py",
   "mimetype": "text/x-python",
   "name": "python",
   "nbconvert_exporter": "python",
   "pygments_lexer": "ipython2",
   "version": "2.7.12"
  }
 },
 "nbformat": 4,
 "nbformat_minor": 1
}
