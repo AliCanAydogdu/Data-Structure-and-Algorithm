{
 "cells": [
  {
   "cell_type": "markdown",
   "metadata": {},
   "source": [
    "# Abstract Data Types\n",
    "\n",
    "## Introduction\n",
    "\n",
    "There are **primitive data types** provided by the programming language as default and they come in two categories:\n",
    "\n",
    "- __simple data types__ consist of values that are in the most basic form and cannot be decomposed into smaller parts. (*Interger and real type*)\n",
    "- __complex data types__ are constructed of multiple components consisting of simple types or other complex types. (*objects, strings, lists, dictionaries*)\n",
    "\n",
    "> Most languages allow for the construction of additional data types, known as **user-defined types**. \n",
    "\n",
    "### Abstractions\n",
    "\n",
    "An Abstraction is a mechanism for separating the properties of an object and restricting the focus to those relevant in the current context. _They help manage the complex problems and complex data types._ \n",
    "\n",
    "- **Procedural Abstraction**  is a mental model of what we want a subprogram to do (but **not** how to do it)\n",
    "- **Data Abstraction** s a mental model of what can be done to a collection of data. It deliberately excludes details of how to do it.\n",
    "\n",
    "![Levels of abstraction used with integer arithmetic](https://cloud.githubusercontent.com/assets/550518/18416451/1b933294-7848-11e6-951a-78b09a8a73e8.png)\n",
    "\n",
    "In the figure above the levels of abstraction is shown. In the Hardware level the abstraction is none, however when we go upper levels we have more and more complex abstractions to be able to make it user friendly.\n",
    "\n",
    "> In Python Big integers are provided as part of the language itself.\n",
    "\n",
    "\n",
    "### Abstract Data Type\n",
    "\n",
    "An abstract data type is a programmer-defined data type that specifies a set of data values and a collection of well-defined operations that can be performed on thos values.\n",
    "\n",
    "Abstract data types are like black boxes that they hide the how to information to themselves and make their functionality available to users by requiring them to use their intefaces/set of operations. Set of operations canbe grouped into 4 category:\n",
    "\n",
    "- **Constructors:** Create an initialize new instancese of the ADT.\n",
    "- **Accessors:** Return data contained in an instance without modifying it.\n",
    "- **Mutators:** Modify the contents of an ADT instance.\n",
    "- ** Iterators:** Process individual data components sequentially. \n",
    "\n",
    "> Implementation details are hidden in the Abstract Data type.\n",
    "\n"
   ]
  }
 ],
 "metadata": {
  "kernelspec": {
   "display_name": "Python 2",
   "language": "python",
   "name": "python2"
  },
  "language_info": {
   "codemirror_mode": {
    "name": "ipython",
    "version": 2
   },
   "file_extension": ".py",
   "mimetype": "text/x-python",
   "name": "python",
   "nbconvert_exporter": "python",
   "pygments_lexer": "ipython2",
   "version": "2.7.11"
  }
 },
 "nbformat": 4,
 "nbformat_minor": 0
}
