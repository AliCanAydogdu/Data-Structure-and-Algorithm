{
 "cells": [
  {
   "cell_type": "markdown",
   "metadata": {},
   "source": [
    "# Algorithm Analysis\n",
    "\n",
    "We can solve a problem with different solutions, but which one is better/best solution? We can answer this question by measuing the execution time, measuring the memory usage, and so on...\n",
    "\n",
    "---\n",
    "\n",
    "## Complexity Analysis\n",
    "\n",
    "To determine the efficiency of an alforithm, we can examine the solution itself and measure those aspects of the algorithms that most critically affect its execution time. \n",
    "\n",
    "Computing the sum of each rown of an nxn matrix and overal sum of the entire matrix:\n",
    "\n",
    "```Python\n",
    "# Version 1\n",
    "totalSum = 0\n",
    "for i in range(n):\n",
    "    rowSum[i] = 0\n",
    "    for j in range(n):\n",
    "        rowSum[i] += matrix[i,j]\n",
    "        totalSum += matrix[i, j]\n",
    "```\n",
    "\n",
    "2 nested loops and 2 addition operation takes ```2*(n**2)``` steps to complete. \n",
    "\n",
    "```Python \n",
    "# Version 2\n",
    "totalSum = 0\n",
    "for i in range(n):\n",
    "    rowSum[i] = 0\n",
    "    for j in range(n):\n",
    "        rowSum[i] += matrix[i,j]\n",
    "    totalSum += rowSum[i]\n",
    "    \n",
    "```\n",
    "\n",
    "This time we took one of the inner loop's addition operation to outter loop which makes ```n*(n+1)``` \n",
    "\n",
    "Version 2 will be slightly faster however difference in the execution times will not be significant. \n",
    "\n",
    "### Big-O Notation\n",
    "\n",
    "In big notation we don't include constants or scalar multiplications, like in the example above version 1 and version 2 has ```O(n**2)``` complexity.\n",
    "\n",
    "\n",
    "### Evaluating Python Code\n",
    "\n",
    "**Linear Time O(n) Examples**\n",
    "\n",
    "Following example function run in O(n) times"
   ]
  },
  {
   "cell_type": "code",
   "execution_count": 3,
   "metadata": {
    "collapsed": false
   },
   "outputs": [
    {
     "name": "stdout",
     "output_type": "stream",
     "text": [
      "45\n"
     ]
    }
   ],
   "source": [
    "def ex1(n):\n",
    "    total = 0 \n",
    "    for i in range(n):\n",
    "        total += i\n",
    "    return total\n",
    "\n",
    "print ex1(10)"
   ]
  },
  {
   "cell_type": "markdown",
   "metadata": {},
   "source": [
    "Function ex2 runs in ```O(n) = O(n+n)```"
   ]
  },
  {
   "cell_type": "code",
   "execution_count": 4,
   "metadata": {
    "collapsed": false
   },
   "outputs": [
    {
     "name": "stdout",
     "output_type": "stream",
     "text": [
      "20\n"
     ]
    }
   ],
   "source": [
    "def ex2(n):\n",
    "    count = 0\n",
    "    for i in range(n):\n",
    "        count += 1\n",
    "    for j in range(n):\n",
    "        count += 1\n",
    "    return count\n",
    "\n",
    "print ex2(10)"
   ]
  },
  {
   "cell_type": "markdown",
   "metadata": {},
   "source": [
    "**Quadratic Time Examples**\n"
   ]
  },
  {
   "cell_type": "code",
   "execution_count": 5,
   "metadata": {
    "collapsed": true
   },
   "outputs": [],
   "source": [
    "def ex3(n):\n",
    "    count = 0\n",
    "    for i in range(n):\n",
    "        for j in range(n):\n",
    "            count += 1\n",
    "    return count\n"
   ]
  },
  {
   "cell_type": "markdown",
   "metadata": {},
   "source": [
    "**Logarithmic Time Examples**\n",
    "\n",
    "The next example contains a single loop, but notice the change to the modification step. Instead of incrementing (or decrementing) by one, it cuts the loop variable in half each time through the loop"
   ]
  },
  {
   "cell_type": "code",
   "execution_count": 6,
   "metadata": {
    "collapsed": true
   },
   "outputs": [],
   "source": [
    "def ex6(n): ## O(log n)\n",
    "    count = 0\n",
    "    i = n\n",
    "    while i >= 1:\n",
    "        count += 1\n",
    "        i = i // 2\n",
    "    return count"
   ]
  },
  {
   "cell_type": "code",
   "execution_count": 7,
   "metadata": {
    "collapsed": true
   },
   "outputs": [],
   "source": [
    "def ex7(n): ## O(n*log n)\n",
    "    count = 0\n",
    "    for i in range(n):\n",
    "        count += ex6(n)\n",
    "    return count"
   ]
  },
  {
   "cell_type": "markdown",
   "metadata": {},
   "source": [
    "**Different Cases**\n",
    "\n",
    "These different case algorithms can be evaluated for their best, worst, and average cases.\n",
    "\n",
    "Example traverses a list containing integer values to find the position of the first negative value. Note that for problem below, the input is the collection of n values contained in the list."
   ]
  },
  {
   "cell_type": "code",
   "execution_count": 9,
   "metadata": {
    "collapsed": false
   },
   "outputs": [],
   "source": [
    "def findNeq(intList):\n",
    "    n = len(intList)\n",
    "    for i in range(n):\n",
    "        if intList[i] < 0:\n",
    "            return i\n",
    "    return None"
   ]
  },
  {
   "cell_type": "markdown",
   "metadata": {},
   "source": [
    "- Worst case of this algorithm would be not to have negative value, since there is none algorithm will go till the end. O(N)\n",
    "- Best case of this algorith would be to find negative value in index 0, which for loop won't iterate further. O(1)\n",
    "- Average case is requires n/2 times which maskes O(n) again. \n",
    "\n",
    "In general, we are more interested in the worst case time-complexity of an algorithm as it provides an upper bound over all possible inputs. \n",
    "\n",
    "\n",
    "## Evaluating the Python List\n",
    "\n",
    "We used Python list to build our own abstract data types, so it would be beneficial for us to learn Python Lists algorithmic efficiency, then we could analyse our adt's efficiency.\n",
    "\n",
    "List Operation | Worst Case \n",
    ":--            | :--:       \n",
    "v = list()     | O(1)\n",
    "v = [0] * n    | O(n)\n",
    "v[i] = x       | O(1)\n",
    "v.append(x)    | O(n)\n",
    "v.extend(w)    | O(n)\n",
    "v.insert(x)    | O(n)\n",
    "v.pop()        | O(n)\n",
    "traversal      | O(n)\n"
   ]
  },
  {
   "cell_type": "markdown",
   "metadata": {},
   "source": [
    "**List Traversal**\n",
    "\n",
    "A sequence traversal accesses the individual items, one after the other, in order to perform some operation on every item. \n",
    "\n",
    "```Python \n",
    "_sum = 0\n",
    "for value in valueList:\n",
    "    _sum += value\n",
    "\n",
    "# Same as    \n",
    "_sum = 0\n",
    "for i in range(len(valueList)):\n",
    "    _sum += valueList[i]\n",
    "```\n",
    "\n",
    "list containse n elements and loop iterates n times which makes our runtime O(n)"
   ]
  }
 ],
 "metadata": {
  "anaconda-cloud": {},
  "kernelspec": {
   "display_name": "Python [default]",
   "language": "python",
   "name": "python2"
  },
  "language_info": {
   "codemirror_mode": {
    "name": "ipython",
    "version": 2
   },
   "file_extension": ".py",
   "mimetype": "text/x-python",
   "name": "python",
   "nbconvert_exporter": "python",
   "pygments_lexer": "ipython2",
   "version": "2.7.12"
  }
 },
 "nbformat": 4,
 "nbformat_minor": 1
}
